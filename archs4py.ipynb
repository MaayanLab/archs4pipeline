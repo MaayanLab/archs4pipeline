{
 "cells": [
  {
   "cell_type": "code",
   "execution_count": 4,
   "metadata": {},
   "outputs": [],
   "source": [
    "import pandas as pd\n",
    "import numpy as np\n",
    "import importlib\n",
    "\n",
    "import archs4py as a4\n",
    "\n",
    "importlib.reload(a4)\n",
    "a4.reload()"
   ]
  },
  {
   "cell_type": "markdown",
   "metadata": {},
   "source": [
    "# Load existing samples\n",
    "\n",
    "Query sample queue to extract previously aligned samples. These samples can be used to filter the total set of samples found in the specified platforms. The remaining samples are new samples that can be added to the queue."
   ]
  },
  {
   "cell_type": "code",
   "execution_count": 7,
   "metadata": {},
   "outputs": [
    {
     "name": "stderr",
     "output_type": "stream",
     "text": [
      "c:\\Users\\Rubberchicken\\Documents\\GitHub\\archs4py\\archs4py\\sra.py:26: DtypeWarning: Columns (14,15) have mixed types.Specify dtype option on import or set low_memory=False.\n",
      "  return read()\n"
     ]
    }
   ],
   "source": [
    "processed_gsm = a4.db.processed_gsms()\n",
    "srr = a4.sra.get_gsms()"
   ]
  },
  {
   "cell_type": "markdown",
   "metadata": {},
   "source": [
    "# Load SRAdb\n",
    "\n",
    "Load all SRAdb info and extract all new SRA samples that are not specified as previously aligned in `srr`."
   ]
  },
  {
   "cell_type": "code",
   "execution_count": 10,
   "metadata": {},
   "outputs": [
    {
     "name": "stderr",
     "output_type": "stream",
     "text": [
      "100%|██████████| 22/22 [44:51<00:00, 122.32s/it]\n"
     ]
    }
   ],
   "source": [
    "new_samples = a4.geo.scan_platforms(srr, processed_gsm)"
   ]
  },
  {
   "cell_type": "code",
   "execution_count": 3,
   "metadata": {},
   "outputs": [
    {
     "ename": "NameError",
     "evalue": "name 'new_samples' is not defined",
     "output_type": "error",
     "traceback": [
      "\u001b[1;31m---------------------------------------------------------------------------\u001b[0m",
      "\u001b[1;31mNameError\u001b[0m                                 Traceback (most recent call last)",
      "\u001b[1;32m<ipython-input-3-3b9d6691c139>\u001b[0m in \u001b[0;36m<module>\u001b[1;34m\u001b[0m\n\u001b[1;32m----> 1\u001b[1;33m \u001b[0mnew_samples\u001b[0m\u001b[1;33m.\u001b[0m\u001b[0mshape\u001b[0m\u001b[1;33m[\u001b[0m\u001b[1;36m0\u001b[0m\u001b[1;33m]\u001b[0m\u001b[1;33m\u001b[0m\u001b[1;33m\u001b[0m\u001b[0m\n\u001b[0m",
      "\u001b[1;31mNameError\u001b[0m: name 'new_samples' is not defined"
     ]
    }
   ],
   "source": [
    "new_samples.shape[0]"
   ]
  },
  {
   "cell_type": "markdown",
   "metadata": {},
   "source": [
    "## Add samples to queue\n",
    "\n",
    "If new samples exist, iterate over the new samples and add them to the database. After adding to the queue manual instance scaling in AWS has to be performed. The instances will then automatically be processed."
   ]
  },
  {
   "cell_type": "code",
   "execution_count": null,
   "metadata": {},
   "outputs": [
    {
     "data": {
      "text/html": [
       "<div>\n",
       "<style scoped>\n",
       "    .dataframe tbody tr th:only-of-type {\n",
       "        vertical-align: middle;\n",
       "    }\n",
       "\n",
       "    .dataframe tbody tr th {\n",
       "        vertical-align: top;\n",
       "    }\n",
       "\n",
       "    .dataframe thead th {\n",
       "        text-align: right;\n",
       "    }\n",
       "</style>\n",
       "<table border=\"1\" class=\"dataframe\">\n",
       "  <thead>\n",
       "    <tr style=\"text-align: right;\">\n",
       "      <th></th>\n",
       "      <th>gse</th>\n",
       "      <th>gsm</th>\n",
       "      <th>sra</th>\n",
       "      <th>listid</th>\n",
       "    </tr>\n",
       "  </thead>\n",
       "  <tbody>\n",
       "    <tr>\n",
       "      <th>0</th>\n",
       "      <td>GSE100064</td>\n",
       "      <td>GSM2670741</td>\n",
       "      <td>SRR5687234</td>\n",
       "      <td>1583729</td>\n",
       "    </tr>\n",
       "    <tr>\n",
       "      <th>1</th>\n",
       "      <td>GSE100064</td>\n",
       "      <td>GSM2670740</td>\n",
       "      <td>SRR5687233</td>\n",
       "      <td>1583728</td>\n",
       "    </tr>\n",
       "    <tr>\n",
       "      <th>2</th>\n",
       "      <td>GSE100391</td>\n",
       "      <td>GSM2680090</td>\n",
       "      <td>SRR5750314</td>\n",
       "      <td>1583730</td>\n",
       "    </tr>\n",
       "    <tr>\n",
       "      <th>3</th>\n",
       "      <td>GSE100391</td>\n",
       "      <td>GSM2680182</td>\n",
       "      <td>SRR5750406</td>\n",
       "      <td>1647514</td>\n",
       "    </tr>\n",
       "    <tr>\n",
       "      <th>4</th>\n",
       "      <td>GSE100391</td>\n",
       "      <td>GSM2680181</td>\n",
       "      <td>SRR5750405</td>\n",
       "      <td>1647513</td>\n",
       "    </tr>\n",
       "    <tr>\n",
       "      <th>...</th>\n",
       "      <td>...</td>\n",
       "      <td>...</td>\n",
       "      <td>...</td>\n",
       "      <td>...</td>\n",
       "    </tr>\n",
       "    <tr>\n",
       "      <th>290052</th>\n",
       "      <td>GSE98548</td>\n",
       "      <td>GSM2598508</td>\n",
       "      <td>SRR5508144</td>\n",
       "      <td>1556867</td>\n",
       "    </tr>\n",
       "    <tr>\n",
       "      <th>290053</th>\n",
       "      <td>GSE98548</td>\n",
       "      <td>GSM2598507</td>\n",
       "      <td>SRR5508143</td>\n",
       "      <td>1556866</td>\n",
       "    </tr>\n",
       "    <tr>\n",
       "      <th>290054</th>\n",
       "      <td>GSE98548</td>\n",
       "      <td>GSM2598506</td>\n",
       "      <td>SRR5508142</td>\n",
       "      <td>1556865</td>\n",
       "    </tr>\n",
       "    <tr>\n",
       "      <th>290055</th>\n",
       "      <td>GSE98548</td>\n",
       "      <td>GSM2598505</td>\n",
       "      <td>SRR5508141</td>\n",
       "      <td>1556864</td>\n",
       "    </tr>\n",
       "    <tr>\n",
       "      <th>290056</th>\n",
       "      <td>GSE98548</td>\n",
       "      <td>GSM2598504</td>\n",
       "      <td>SRR5508140</td>\n",
       "      <td>1556863</td>\n",
       "    </tr>\n",
       "  </tbody>\n",
       "</table>\n",
       "<p>290057 rows × 4 columns</p>\n",
       "</div>"
      ],
      "text/plain": [
       "              gse         gsm         sra   listid\n",
       "0       GSE100064  GSM2670741  SRR5687234  1583729\n",
       "1       GSE100064  GSM2670740  SRR5687233  1583728\n",
       "2       GSE100391  GSM2680090  SRR5750314  1583730\n",
       "3       GSE100391  GSM2680182  SRR5750406  1647514\n",
       "4       GSE100391  GSM2680181  SRR5750405  1647513\n",
       "...           ...         ...         ...      ...\n",
       "290052   GSE98548  GSM2598508  SRR5508144  1556867\n",
       "290053   GSE98548  GSM2598507  SRR5508143  1556866\n",
       "290054   GSE98548  GSM2598506  SRR5508142  1556865\n",
       "290055   GSE98548  GSM2598505  SRR5508141  1556864\n",
       "290056   GSE98548  GSM2598504  SRR5508140  1556863\n",
       "\n",
       "[290057 rows x 4 columns]"
      ]
     },
     "execution_count": 154,
     "metadata": {},
     "output_type": "execute_result"
    }
   ],
   "source": [
    "if new_samples.shape[0] > 0:\n",
    "    maxlistid = a4.db.get_max_id()\n",
    "    gsm_meta = new_samples\n",
    "    gsm_meta[\"listid\"] = list(range(maxlistid+1, maxlistid+gsm_meta.shape[0]+1))\n",
    "    sample_mapping = gsm_meta.loc[:, [\"gse\", \"gsm\", \"sra\", \"listid\"]]\n",
    "    sample_mapping = sample_mapping.sort_values(\"gse\").reset_index(drop=True)\n",
    "    a4.db.add_mapping(sample_mapping)\n",
    "    a4.db.add_sequencing_jobs(new_samples)"
   ]
  },
  {
   "cell_type": "markdown",
   "metadata": {},
   "source": [
    "## Post processing of alignment data\n",
    "\n",
    "This step is performed after the queue has been successfully aligned. There will be some samples that failed alignment. First we check that there are no more waiting samples in the queue before processing with building.\n",
    "\n",
    "It is recommended to run post processing on an AWS instance. There can be significant data transfer from S3 which can incurre cost for data egress. By keeping processing in AWS this cost will not be incurred.\n",
    "\n",
    "There are some system requirements to consider. Sufficient memory will be needed to build some of the \n"
   ]
  },
  {
   "cell_type": "code",
   "execution_count": 5,
   "metadata": {},
   "outputs": [
    {
     "data": {
      "text/html": [
       "<div>\n",
       "<style scoped>\n",
       "    .dataframe tbody tr th:only-of-type {\n",
       "        vertical-align: middle;\n",
       "    }\n",
       "\n",
       "    .dataframe tbody tr th {\n",
       "        vertical-align: top;\n",
       "    }\n",
       "\n",
       "    .dataframe thead th {\n",
       "        text-align: right;\n",
       "    }\n",
       "</style>\n",
       "<table border=\"1\" class=\"dataframe\">\n",
       "  <thead>\n",
       "    <tr style=\"text-align: right;\">\n",
       "      <th></th>\n",
       "      <th>0</th>\n",
       "    </tr>\n",
       "  </thead>\n",
       "  <tbody>\n",
       "    <tr>\n",
       "      <th>0</th>\n",
       "      <td>0</td>\n",
       "    </tr>\n",
       "  </tbody>\n",
       "</table>\n",
       "</div>"
      ],
      "text/plain": [
       "   0\n",
       "0  0"
      ]
     },
     "execution_count": 5,
     "metadata": {},
     "output_type": "execute_result"
    }
   ],
   "source": [
    "a4.db.waiting_jobs()"
   ]
  },
  {
   "cell_type": "code",
   "execution_count": 1,
   "metadata": {},
   "outputs": [],
   "source": [
    "import os\n",
    "\n",
    "organism = \"mouse\"  # can also be 'mouse'\n",
    "\n",
    "author = \"Alexander Lachmann\"\n",
    "lab = \"Ma'ayan Lab - Icahn School of Medicine at Mount Sinai\"\n",
    "contact = \"alexander.lachmann@mssm.edu\"\n",
    "version = 9\n",
    "\n",
    "os.makedirs('downloads', exist_ok=True)\n",
    "os.makedirs('downloads/counts', exist_ok=True)"
   ]
  },
  {
   "cell_type": "code",
   "execution_count": null,
   "metadata": {},
   "outputs": [],
   "source": [
    "def split_list(alist, parts=1):\n",
    "    length = len(alist)\n",
    "    return [ alist[i*length // parts: (i+1)*length // parts] for i in range(parts) ]"
   ]
  },
  {
   "cell_type": "code",
   "execution_count": 3,
   "metadata": {},
   "outputs": [],
   "source": []
  },
  {
   "cell_type": "code",
   "execution_count": null,
   "metadata": {},
   "outputs": [],
   "source": [
    "os.system(\"cp downloads/\"+organism+'_matrix.h5', 'downloads/'+organism+'_matrix_2.h5')"
   ]
  }
 ],
 "metadata": {
  "interpreter": {
   "hash": "b3ba2566441a7c06988d0923437866b63cedc61552a5af99d1f4fb67d367b25f"
  },
  "kernelspec": {
   "display_name": "Python 3.8.5 64-bit ('base': conda)",
   "name": "python3"
  },
  "language_info": {
   "codemirror_mode": {
    "name": "ipython",
    "version": 3
   },
   "file_extension": ".py",
   "mimetype": "text/x-python",
   "name": "python",
   "nbconvert_exporter": "python",
   "pygments_lexer": "ipython3",
   "version": "3.8.5"
  },
  "orig_nbformat": 4
 },
 "nbformat": 4,
 "nbformat_minor": 2
}
