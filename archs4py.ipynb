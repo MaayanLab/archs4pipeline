{
 "cells": [
  {
   "cell_type": "code",
   "execution_count": 5,
   "metadata": {},
   "outputs": [],
   "source": [
    "import pandas as pd\n",
    "import numpy as np\n",
    "import importlib\n",
    "\n",
    "import archs4py as a4\n",
    "\n",
    "importlib.reload(a4)\n",
    "a4.reload()"
   ]
  },
  {
   "cell_type": "code",
   "execution_count": 7,
   "metadata": {},
   "outputs": [
    {
     "name": "stderr",
     "output_type": "stream",
     "text": [
      "c:\\Users\\Rubberchicken\\Documents\\GitHub\\archs4py\\archs4py\\sra.py:26: DtypeWarning: Columns (14,15) have mixed types.Specify dtype option on import or set low_memory=False.\n",
      "  return read()\n"
     ]
    }
   ],
   "source": [
    "processed_gsm = a4.db.processed_gsms()\n",
    "srr = a4.sra.get_gsms()"
   ]
  },
  {
   "cell_type": "code",
   "execution_count": 10,
   "metadata": {},
   "outputs": [
    {
     "name": "stderr",
     "output_type": "stream",
     "text": [
      "100%|██████████| 22/22 [44:51<00:00, 122.32s/it]\n"
     ]
    }
   ],
   "source": [
    "new_samples = a4.geo.scan_platforms(srr, processed_gsm)"
   ]
  },
  {
   "cell_type": "code",
   "execution_count": 12,
   "metadata": {},
   "outputs": [
    {
     "data": {
      "text/plain": [
       "0"
      ]
     },
     "execution_count": 12,
     "metadata": {},
     "output_type": "execute_result"
    }
   ],
   "source": [
    "new_samples.shape[0]"
   ]
  },
  {
   "cell_type": "code",
   "execution_count": null,
   "metadata": {},
   "outputs": [
    {
     "data": {
      "text/html": [
       "<div>\n",
       "<style scoped>\n",
       "    .dataframe tbody tr th:only-of-type {\n",
       "        vertical-align: middle;\n",
       "    }\n",
       "\n",
       "    .dataframe tbody tr th {\n",
       "        vertical-align: top;\n",
       "    }\n",
       "\n",
       "    .dataframe thead th {\n",
       "        text-align: right;\n",
       "    }\n",
       "</style>\n",
       "<table border=\"1\" class=\"dataframe\">\n",
       "  <thead>\n",
       "    <tr style=\"text-align: right;\">\n",
       "      <th></th>\n",
       "      <th>gse</th>\n",
       "      <th>gsm</th>\n",
       "      <th>sra</th>\n",
       "      <th>listid</th>\n",
       "    </tr>\n",
       "  </thead>\n",
       "  <tbody>\n",
       "    <tr>\n",
       "      <th>0</th>\n",
       "      <td>GSE100064</td>\n",
       "      <td>GSM2670741</td>\n",
       "      <td>SRR5687234</td>\n",
       "      <td>1583729</td>\n",
       "    </tr>\n",
       "    <tr>\n",
       "      <th>1</th>\n",
       "      <td>GSE100064</td>\n",
       "      <td>GSM2670740</td>\n",
       "      <td>SRR5687233</td>\n",
       "      <td>1583728</td>\n",
       "    </tr>\n",
       "    <tr>\n",
       "      <th>2</th>\n",
       "      <td>GSE100391</td>\n",
       "      <td>GSM2680090</td>\n",
       "      <td>SRR5750314</td>\n",
       "      <td>1583730</td>\n",
       "    </tr>\n",
       "    <tr>\n",
       "      <th>3</th>\n",
       "      <td>GSE100391</td>\n",
       "      <td>GSM2680182</td>\n",
       "      <td>SRR5750406</td>\n",
       "      <td>1647514</td>\n",
       "    </tr>\n",
       "    <tr>\n",
       "      <th>4</th>\n",
       "      <td>GSE100391</td>\n",
       "      <td>GSM2680181</td>\n",
       "      <td>SRR5750405</td>\n",
       "      <td>1647513</td>\n",
       "    </tr>\n",
       "    <tr>\n",
       "      <th>...</th>\n",
       "      <td>...</td>\n",
       "      <td>...</td>\n",
       "      <td>...</td>\n",
       "      <td>...</td>\n",
       "    </tr>\n",
       "    <tr>\n",
       "      <th>290052</th>\n",
       "      <td>GSE98548</td>\n",
       "      <td>GSM2598508</td>\n",
       "      <td>SRR5508144</td>\n",
       "      <td>1556867</td>\n",
       "    </tr>\n",
       "    <tr>\n",
       "      <th>290053</th>\n",
       "      <td>GSE98548</td>\n",
       "      <td>GSM2598507</td>\n",
       "      <td>SRR5508143</td>\n",
       "      <td>1556866</td>\n",
       "    </tr>\n",
       "    <tr>\n",
       "      <th>290054</th>\n",
       "      <td>GSE98548</td>\n",
       "      <td>GSM2598506</td>\n",
       "      <td>SRR5508142</td>\n",
       "      <td>1556865</td>\n",
       "    </tr>\n",
       "    <tr>\n",
       "      <th>290055</th>\n",
       "      <td>GSE98548</td>\n",
       "      <td>GSM2598505</td>\n",
       "      <td>SRR5508141</td>\n",
       "      <td>1556864</td>\n",
       "    </tr>\n",
       "    <tr>\n",
       "      <th>290056</th>\n",
       "      <td>GSE98548</td>\n",
       "      <td>GSM2598504</td>\n",
       "      <td>SRR5508140</td>\n",
       "      <td>1556863</td>\n",
       "    </tr>\n",
       "  </tbody>\n",
       "</table>\n",
       "<p>290057 rows × 4 columns</p>\n",
       "</div>"
      ],
      "text/plain": [
       "              gse         gsm         sra   listid\n",
       "0       GSE100064  GSM2670741  SRR5687234  1583729\n",
       "1       GSE100064  GSM2670740  SRR5687233  1583728\n",
       "2       GSE100391  GSM2680090  SRR5750314  1583730\n",
       "3       GSE100391  GSM2680182  SRR5750406  1647514\n",
       "4       GSE100391  GSM2680181  SRR5750405  1647513\n",
       "...           ...         ...         ...      ...\n",
       "290052   GSE98548  GSM2598508  SRR5508144  1556867\n",
       "290053   GSE98548  GSM2598507  SRR5508143  1556866\n",
       "290054   GSE98548  GSM2598506  SRR5508142  1556865\n",
       "290055   GSE98548  GSM2598505  SRR5508141  1556864\n",
       "290056   GSE98548  GSM2598504  SRR5508140  1556863\n",
       "\n",
       "[290057 rows x 4 columns]"
      ]
     },
     "execution_count": 154,
     "metadata": {},
     "output_type": "execute_result"
    }
   ],
   "source": [
    "if new_samples.shape[0] > 0:\n",
    "    maxlistid = a4.db.get_max_id()\n",
    "    gsm_meta = new_samples\n",
    "    gsm_meta[\"listid\"] = list(range(maxlistid+1, maxlistid+gsm_meta.shape[0]+1))\n",
    "    sample_mapping = gsm_meta.loc[:, [\"gse\", \"gsm\", \"sra\", \"listid\"]]\n",
    "    sample_mapping = sample_mapping.sort_values(\"gse\").reset_index(drop=True)\n",
    "    a4.db.add_mapping(sample_mapping)\n",
    "    a4.db.add_sequencing_jobs(new_samples)"
   ]
  },
  {
   "cell_type": "code",
   "execution_count": 26,
   "metadata": {},
   "outputs": [],
   "source": [
    "import pandas as pd\n",
    "import numpy as np\n",
    "import gzip\n",
    "\n",
    "f=gzip.open('downloads/soft/GPL15103.soft.gz','rb')\n",
    "soft=f.read()\n",
    "f.close()"
   ]
  },
  {
   "cell_type": "code",
   "execution_count": 22,
   "metadata": {},
   "outputs": [
    {
     "data": {
      "text/plain": [
       "1"
      ]
     },
     "execution_count": 22,
     "metadata": {},
     "output_type": "execute_result"
    }
   ],
   "source": [
    "import os\n",
    "os.system(\"zgrep '!Platform_sample_id|!Library_strategy' downloads/soft/GPL11154.soft.gz > test.tsv\")\n",
    "os.system(\"sed -i 's/!Platform_sample_id = //g' test.tsv\")"
   ]
  },
  {
   "cell_type": "code",
   "execution_count": 33,
   "metadata": {},
   "outputs": [
    {
     "data": {
      "text/plain": [
       "28         GSM678412\n",
       "29         GSM678413\n",
       "30         GSM678414\n",
       "63         GSM741170\n",
       "64         GSM741171\n",
       "             ...    \n",
       "153228    GSM5577337\n",
       "153229    GSM5580099\n",
       "153230    GSM5580100\n",
       "153231    GSM5580101\n",
       "153232    GSM5580102\n",
       "Name: 0, Length: 103124, dtype: object"
      ]
     },
     "execution_count": 33,
     "metadata": {},
     "output_type": "execute_result"
    }
   ],
   "source": [
    "import os\n",
    "import pandas as pd\n",
    "\n",
    "#os.system(\"zgrep '\\^SAMPLE\\|!Sample_library_strategy\\|!Sample_tax' downloads/soft/GPL11154.soft.gz > temp.tsv\")\n",
    "os.system(\"zgrep '\\^SAMPLE\\|!Sample_library_strategy' downloads/soft/GPL11154.soft.gz > temp.tsv\")\n",
    "\n",
    "def chunk(l, n):\n",
    "    return [l[i:i+n] for i in range(0, len(l), n)]\n",
    "\n",
    "f=open('temp.tsv','r')\n",
    "lines = f.readlines()\n",
    "f.close()\n",
    "\n",
    "lines = [x.strip().replace(\"^SAMPLE = \", \"\") for x in lines]\n",
    "lines = [x.replace(\"!Sample_library_strategy = \", \"\") for x in lines]\n",
    "lines = [x.replace(\"!Sample_taxid_ch1 = \", \"\") for x in lines]\n",
    "\n",
    "cc = chunk(lines,2)\n",
    "df = pd.DataFrame(cc)\n",
    "rna_samples = df[df[1] == \"RNA-Seq\"][0]\n",
    "newrnaseq = list(set(rna_samples).intersection(srr.index))\n",
    "\n",
    "diff_samples= set(newrnaseq).difference(set(processed_gsm))\n",
    "\n",
    "newrnaseq"
   ]
  },
  {
   "cell_type": "code",
   "execution_count": 38,
   "metadata": {},
   "outputs": [
    {
     "data": {
      "text/plain": [
       "88429"
      ]
     },
     "execution_count": 38,
     "metadata": {},
     "output_type": "execute_result"
    }
   ],
   "source": [
    "len(set(rna_samples).intersection(srr.index))"
   ]
  },
  {
   "cell_type": "code",
   "execution_count": 28,
   "metadata": {},
   "outputs": [
    {
     "ename": "FileNotFoundError",
     "evalue": "[WinError 2] The system cannot find the file specified",
     "output_type": "error",
     "traceback": [
      "\u001b[1;31m---------------------------------------------------------------------------\u001b[0m",
      "\u001b[1;31mFileNotFoundError\u001b[0m                         Traceback (most recent call last)",
      "\u001b[1;32m<ipython-input-28-ef9558c33a98>\u001b[0m in \u001b[0;36m<module>\u001b[1;34m\u001b[0m\n\u001b[0;32m      1\u001b[0m \u001b[1;32mimport\u001b[0m \u001b[0msubprocess\u001b[0m\u001b[1;33m\u001b[0m\u001b[1;33m\u001b[0m\u001b[0m\n\u001b[0;32m      2\u001b[0m \u001b[1;33m\u001b[0m\u001b[0m\n\u001b[1;32m----> 3\u001b[1;33m \u001b[0mp\u001b[0m \u001b[1;33m=\u001b[0m \u001b[0msubprocess\u001b[0m\u001b[1;33m.\u001b[0m\u001b[0mcall\u001b[0m\u001b[1;33m(\u001b[0m\u001b[1;34m\"zgrep Platform_sample_id downloads/soft/GPL11154.soft.gz > test.tsv\"\u001b[0m\u001b[1;33m,\u001b[0m \u001b[0mstdout\u001b[0m\u001b[1;33m=\u001b[0m\u001b[0msubprocess\u001b[0m\u001b[1;33m.\u001b[0m\u001b[0mPIPE\u001b[0m\u001b[1;33m,\u001b[0m \u001b[0mstderr\u001b[0m\u001b[1;33m=\u001b[0m\u001b[0msubprocess\u001b[0m\u001b[1;33m.\u001b[0m\u001b[0mPIPE\u001b[0m\u001b[1;33m)\u001b[0m\u001b[1;33m\u001b[0m\u001b[1;33m\u001b[0m\u001b[0m\n\u001b[0m\u001b[0;32m      4\u001b[0m \u001b[1;33m\u001b[0m\u001b[0m\n\u001b[0;32m      5\u001b[0m \u001b[0mprint\u001b[0m\u001b[1;33m(\u001b[0m \u001b[1;34m'exit status:'\u001b[0m\u001b[1;33m,\u001b[0m \u001b[0mp\u001b[0m\u001b[1;33m.\u001b[0m\u001b[0mreturncode\u001b[0m \u001b[1;33m)\u001b[0m\u001b[1;33m\u001b[0m\u001b[1;33m\u001b[0m\u001b[0m\n",
      "\u001b[1;32mC:\\ProgramData\\Anaconda3\\lib\\subprocess.py\u001b[0m in \u001b[0;36mcall\u001b[1;34m(timeout, *popenargs, **kwargs)\u001b[0m\n\u001b[0;32m    338\u001b[0m     \u001b[0mretcode\u001b[0m \u001b[1;33m=\u001b[0m \u001b[0mcall\u001b[0m\u001b[1;33m(\u001b[0m\u001b[1;33m[\u001b[0m\u001b[1;34m\"ls\"\u001b[0m\u001b[1;33m,\u001b[0m \u001b[1;34m\"-l\"\u001b[0m\u001b[1;33m]\u001b[0m\u001b[1;33m)\u001b[0m\u001b[1;33m\u001b[0m\u001b[1;33m\u001b[0m\u001b[0m\n\u001b[0;32m    339\u001b[0m     \"\"\"\n\u001b[1;32m--> 340\u001b[1;33m     \u001b[1;32mwith\u001b[0m \u001b[0mPopen\u001b[0m\u001b[1;33m(\u001b[0m\u001b[1;33m*\u001b[0m\u001b[0mpopenargs\u001b[0m\u001b[1;33m,\u001b[0m \u001b[1;33m**\u001b[0m\u001b[0mkwargs\u001b[0m\u001b[1;33m)\u001b[0m \u001b[1;32mas\u001b[0m \u001b[0mp\u001b[0m\u001b[1;33m:\u001b[0m\u001b[1;33m\u001b[0m\u001b[1;33m\u001b[0m\u001b[0m\n\u001b[0m\u001b[0;32m    341\u001b[0m         \u001b[1;32mtry\u001b[0m\u001b[1;33m:\u001b[0m\u001b[1;33m\u001b[0m\u001b[1;33m\u001b[0m\u001b[0m\n\u001b[0;32m    342\u001b[0m             \u001b[1;32mreturn\u001b[0m \u001b[0mp\u001b[0m\u001b[1;33m.\u001b[0m\u001b[0mwait\u001b[0m\u001b[1;33m(\u001b[0m\u001b[0mtimeout\u001b[0m\u001b[1;33m=\u001b[0m\u001b[0mtimeout\u001b[0m\u001b[1;33m)\u001b[0m\u001b[1;33m\u001b[0m\u001b[1;33m\u001b[0m\u001b[0m\n",
      "\u001b[1;32mC:\\ProgramData\\Anaconda3\\lib\\subprocess.py\u001b[0m in \u001b[0;36m__init__\u001b[1;34m(self, args, bufsize, executable, stdin, stdout, stderr, preexec_fn, close_fds, shell, cwd, env, universal_newlines, startupinfo, creationflags, restore_signals, start_new_session, pass_fds, encoding, errors, text)\u001b[0m\n\u001b[0;32m    852\u001b[0m                             encoding=encoding, errors=errors)\n\u001b[0;32m    853\u001b[0m \u001b[1;33m\u001b[0m\u001b[0m\n\u001b[1;32m--> 854\u001b[1;33m             self._execute_child(args, executable, preexec_fn, close_fds,\n\u001b[0m\u001b[0;32m    855\u001b[0m                                 \u001b[0mpass_fds\u001b[0m\u001b[1;33m,\u001b[0m \u001b[0mcwd\u001b[0m\u001b[1;33m,\u001b[0m \u001b[0menv\u001b[0m\u001b[1;33m,\u001b[0m\u001b[1;33m\u001b[0m\u001b[1;33m\u001b[0m\u001b[0m\n\u001b[0;32m    856\u001b[0m                                 \u001b[0mstartupinfo\u001b[0m\u001b[1;33m,\u001b[0m \u001b[0mcreationflags\u001b[0m\u001b[1;33m,\u001b[0m \u001b[0mshell\u001b[0m\u001b[1;33m,\u001b[0m\u001b[1;33m\u001b[0m\u001b[1;33m\u001b[0m\u001b[0m\n",
      "\u001b[1;32mC:\\ProgramData\\Anaconda3\\lib\\subprocess.py\u001b[0m in \u001b[0;36m_execute_child\u001b[1;34m(self, args, executable, preexec_fn, close_fds, pass_fds, cwd, env, startupinfo, creationflags, shell, p2cread, p2cwrite, c2pread, c2pwrite, errread, errwrite, unused_restore_signals, unused_start_new_session)\u001b[0m\n\u001b[0;32m   1305\u001b[0m             \u001b[1;31m# Start the process\u001b[0m\u001b[1;33m\u001b[0m\u001b[1;33m\u001b[0m\u001b[1;33m\u001b[0m\u001b[0m\n\u001b[0;32m   1306\u001b[0m             \u001b[1;32mtry\u001b[0m\u001b[1;33m:\u001b[0m\u001b[1;33m\u001b[0m\u001b[1;33m\u001b[0m\u001b[0m\n\u001b[1;32m-> 1307\u001b[1;33m                 hp, ht, pid, tid = _winapi.CreateProcess(executable, args,\n\u001b[0m\u001b[0;32m   1308\u001b[0m                                          \u001b[1;31m# no special security\u001b[0m\u001b[1;33m\u001b[0m\u001b[1;33m\u001b[0m\u001b[1;33m\u001b[0m\u001b[0m\n\u001b[0;32m   1309\u001b[0m                                          \u001b[1;32mNone\u001b[0m\u001b[1;33m,\u001b[0m \u001b[1;32mNone\u001b[0m\u001b[1;33m,\u001b[0m\u001b[1;33m\u001b[0m\u001b[1;33m\u001b[0m\u001b[0m\n",
      "\u001b[1;31mFileNotFoundError\u001b[0m: [WinError 2] The system cannot find the file specified"
     ]
    }
   ],
   "source": [
    "import tqdm\n",
    "import urllib\n",
    "import time\n",
    "from collections import Counter\n",
    "\n",
    "\n",
    "def chunk(l, n):\n",
    "    return [l[i:i+n] for i in range(0, len(l), n)]\n",
    "\n",
    "def fast_geo(platform, srr, processed_gsms):\n",
    "    os.makedirs(\"downloads/soft\", exist_ok=True)\n",
    "    p = platform\n",
    "    p1 =  p[0:5]+\"nnn\"\n",
    "    p2 = p[0:9]\n",
    "    url = \"ftp://ftp.ncbi.nlm.nih.gov/geo/platforms/\"+p1+\"/\"+p2+\"/soft/\"+p2+\"_family.soft.gz\"\n",
    "    urllib.request.urlretrieve(url, \"downloads/soft/\"+p2+\".soft.gz\")\n",
    "    os.system(\"zgrep '\\^SAMPLE\\|!Sample_library_strategy' downloads/soft/\"+p2+\".soft.gz > temp.tsv\")\n",
    "    f=open('temp.tsv','r')\n",
    "    lines = f.readlines()\n",
    "    f.close()\n",
    "    lines = [x.strip().replace(\"^SAMPLE = \", \"\") for x in lines]\n",
    "    lines = [x.replace(\"!Sample_library_strategy = \", \"\") for x in lines]\n",
    "    cc = chunk(lines,2)\n",
    "    df = pd.DataFrame(cc)\n",
    "    rna_samples = df[df[1] == \"RNA-Seq\"][0]\n",
    "    news = set(rna_samples).intersection(srr.index).difference(set(processed_gsms[0]))\n",
    "    os.system(\"zgrep '^!Sample_taxid_ch1' downloads/soft/\"+p2+\".soft.gz > temp.tsv\")\n",
    "    f=open('temp.tsv','r')\n",
    "    lines = f.readlines()\n",
    "    lines = [x.strip().replace(\"!Sample_taxid_ch1 = \", \"\") for x in lines]\n",
    "    f.close()\n",
    "    species = list(Counter(lines).keys())[0]\n",
    "    os.system(\"zgrep '\\^SAMPLE\\|!Sample_series_id' downloads/soft/\"+p2+\".soft.gz > temp.tsv\")\n",
    "    f=open('temp.tsv','r')\n",
    "    lines = f.readlines()\n",
    "    f.close()\n",
    "    sample_series = []\n",
    "    sample = \"\"\n",
    "    series = []\n",
    "    for l in lines:\n",
    "        if l.startswith(\"^SAMPLE\"):\n",
    "            if not sample == \"\":\n",
    "                series = \",\".join(series)\n",
    "                sample_series.append([series, sample, species])\n",
    "            sample = l.strip().replace(\"^SAMPLE = \", \"\")\n",
    "            series = []\n",
    "        else:\n",
    "            series.append(l.strip().replace(\"!Sample_series_id = \", \"\"))\n",
    "    sample_series = pd.DataFrame(sample_series)\n",
    "    srna = set(rna_samples)\n",
    "    idx = [i for i,e in enumerate(sample_series[1]) if e in srna]\n",
    "    return sample_series.iloc[idx, :]\n",
    "\n",
    "st = time.time()\n",
    "platforms = [\"GPL24676\", \"GPL24247\", \"GPL21626\", \"GPL21697\", \"GPL21273\", \"GPL20795\", \"GPL21493\", \"GPL21103\", \"GPL19057\", \"GPL18480\", \"GPL17021\", \"GPL15103\", \"GPL13112\", \"GPL21290\", \"GPL20301\", \"GPL18573\", \"GPL18460\", \"GPL16791\", \"GPL15433\", \"GPL11154\", \"GPL23227\", \"GPL23479\"]\n",
    "platform_results = []\n",
    "for p in tqdm.tqdm(platforms):\n",
    "    res = fast_geo(p, srr, processed_gsm)\n",
    "    platform_results.append(res)\n",
    "\n",
    "print(time.time() - st)\n"
   ]
  },
  {
   "cell_type": "code",
   "execution_count": 25,
   "metadata": {},
   "outputs": [
    {
     "data": {
      "text/plain": [
       "'c:\\\\Users\\\\Rubberchicken\\\\Documents\\\\GitHub\\\\archs4py'"
      ]
     },
     "execution_count": 25,
     "metadata": {},
     "output_type": "execute_result"
    }
   ],
   "source": [
    "os.system(\"zgrep '^!Sample_taxid_ch1' downloads/soft/GPL21273.soft.gz > temp.tsv\")\n",
    "f=open('temp.tsv','r')\n",
    "lines = f.readlines()\n",
    "lines = [x.strip().replace(\"!Sample_taxid_ch1 = \", \"\") for x in lines]\n",
    "f.close()\n",
    "list(Counter(lines).keys())[0]"
   ]
  },
  {
   "cell_type": "code",
   "execution_count": 2,
   "metadata": {},
   "outputs": [
    {
     "name": "stdout",
     "output_type": "stream",
     "text": [
      "Thread started\n",
      "Thread finished\n",
      "0\n",
      "Thread started\n",
      "Thread finished\n",
      "0\n"
     ]
    }
   ],
   "source": [
    "import subprocess, threading\n",
    "\n",
    "class Command(object):\n",
    "    def __init__(self, cmd):\n",
    "        self.cmd = cmd\n",
    "        self.process = None\n",
    "    def run(self, timeout):\n",
    "        def target():\n",
    "            print('Thread started')\n",
    "            f = open(\"thread.txt\", \"w\")\n",
    "            self.process = subprocess.Popen(self.cmd, shell=True, stderr=f, stdout=f)\n",
    "            self.process.communicate()\n",
    "            f.close()\n",
    "            print('Thread finished')\n",
    "        thread = threading.Thread(target=target)\n",
    "        thread.start()\n",
    "        thread.join(timeout)\n",
    "        if thread.is_alive():\n",
    "            print('Terminating process')\n",
    "            self.process.terminate()\n",
    "            thread.join()\n",
    "        print (self.process.returncode)\n",
    "        return self.process.returncode\n",
    "\n",
    "command = Command(\"echo 'Process started'; sleep 2; echo 'Process finished'\")\n",
    "command.run(timeout=3)\n",
    "command.run(timeout=1)"
   ]
  }
 ],
 "metadata": {
  "interpreter": {
   "hash": "b3ba2566441a7c06988d0923437866b63cedc61552a5af99d1f4fb67d367b25f"
  },
  "kernelspec": {
   "display_name": "Python 3.8.5 64-bit ('base': conda)",
   "name": "python3"
  },
  "language_info": {
   "codemirror_mode": {
    "name": "ipython",
    "version": 3
   },
   "file_extension": ".py",
   "mimetype": "text/x-python",
   "name": "python",
   "nbconvert_exporter": "python",
   "pygments_lexer": "ipython3",
   "version": "3.8.5"
  },
  "orig_nbformat": 4
 },
 "nbformat": 4,
 "nbformat_minor": 2
}
