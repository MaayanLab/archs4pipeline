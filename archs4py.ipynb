{
 "cells": [
  {
   "cell_type": "code",
   "execution_count": 13,
   "metadata": {},
   "outputs": [],
   "source": [
    "import pandas as pd\n",
    "import numpy as np\n",
    "\n",
    "import archs4py as a4\n",
    "import importlib\n",
    "\n",
    "importlib.reload(a4)\n",
    "a4.reload()"
   ]
  },
  {
   "cell_type": "code",
   "execution_count": 4,
   "metadata": {},
   "outputs": [],
   "source": [
    "processed_gsm = a4.db.processed_gsms()\n",
    "srr = a4.sra.get_gsms()"
   ]
  },
  {
   "cell_type": "code",
   "execution_count": 14,
   "metadata": {},
   "outputs": [
    {
     "name": "stderr",
     "output_type": "stream",
     "text": [
      "  0%|          | 0/22 [00:00<?, ?it/s]22-Oct-2021 20:34:12 INFO GEOparse - Parsing downloads/soft/GPL24676.soft.gz: \n"
     ]
    },
    {
     "name": "stdout",
     "output_type": "stream",
     "text": [
      "18287\n"
     ]
    },
    {
     "name": "stderr",
     "output_type": "stream",
     "text": [
      "  5%|▍         | 1/22 [01:19<27:47, 79.41s/it]22-Oct-2021 20:35:31 INFO GEOparse - Parsing downloads/soft/GPL24247.soft.gz: \n"
     ]
    },
    {
     "name": "stdout",
     "output_type": "stream",
     "text": [
      "148933\n"
     ]
    },
    {
     "name": "stderr",
     "output_type": "stream",
     "text": [
      "  9%|▉         | 2/22 [05:18<57:45, 173.28s/it]22-Oct-2021 20:39:30 INFO GEOparse - Parsing downloads/soft/GPL21626.soft.gz: \n"
     ]
    },
    {
     "name": "stdout",
     "output_type": "stream",
     "text": [
      "4459\n"
     ]
    },
    {
     "name": "stderr",
     "output_type": "stream",
     "text": [
      " 14%|█▎        | 3/22 [05:57<35:27, 112.00s/it]22-Oct-2021 20:40:09 INFO GEOparse - Parsing downloads/soft/GPL21697.soft.gz: \n",
      " 18%|█▊        | 4/22 [06:12<22:06, 73.72s/it] "
     ]
    },
    {
     "name": "stdout",
     "output_type": "stream",
     "text": [
      "5763\n"
     ]
    },
    {
     "name": "stderr",
     "output_type": "stream",
     "text": [
      "22-Oct-2021 20:40:24 INFO GEOparse - Parsing downloads/soft/GPL21273.soft.gz: \n"
     ]
    },
    {
     "name": "stdout",
     "output_type": "stream",
     "text": [
      "6659\n"
     ]
    },
    {
     "name": "stderr",
     "output_type": "stream",
     "text": [
      " 23%|██▎       | 5/22 [06:34<15:33, 54.89s/it]22-Oct-2021 20:40:46 INFO GEOparse - Parsing downloads/soft/GPL20795.soft.gz: \n"
     ]
    },
    {
     "name": "stdout",
     "output_type": "stream",
     "text": [
      "6099\n"
     ]
    },
    {
     "name": "stderr",
     "output_type": "stream",
     "text": [
      " 27%|██▋       | 6/22 [06:55<11:34, 43.38s/it]22-Oct-2021 20:41:07 INFO GEOparse - Parsing downloads/soft/GPL21493.soft.gz: \n"
     ]
    },
    {
     "name": "stdout",
     "output_type": "stream",
     "text": [
      "3004\n"
     ]
    },
    {
     "name": "stderr",
     "output_type": "stream",
     "text": [
      " 32%|███▏      | 7/22 [07:19<09:16, 37.13s/it]22-Oct-2021 20:41:31 INFO GEOparse - Parsing downloads/soft/GPL21103.soft.gz: \n"
     ]
    },
    {
     "name": "stdout",
     "output_type": "stream",
     "text": [
      "18455\n"
     ]
    },
    {
     "name": "stderr",
     "output_type": "stream",
     "text": [
      " 36%|███▋      | 8/22 [08:55<13:04, 56.06s/it]22-Oct-2021 20:43:08 INFO GEOparse - Parsing downloads/soft/GPL19057.soft.gz: \n"
     ]
    }
   ],
   "source": [
    "new_samples = a4.geo.scan_platforms(srr, processed_gsm)\n"
   ]
  },
  {
   "cell_type": "code",
   "execution_count": null,
   "metadata": {},
   "outputs": [
    {
     "data": {
      "text/html": [
       "<div>\n",
       "<style scoped>\n",
       "    .dataframe tbody tr th:only-of-type {\n",
       "        vertical-align: middle;\n",
       "    }\n",
       "\n",
       "    .dataframe tbody tr th {\n",
       "        vertical-align: top;\n",
       "    }\n",
       "\n",
       "    .dataframe thead th {\n",
       "        text-align: right;\n",
       "    }\n",
       "</style>\n",
       "<table border=\"1\" class=\"dataframe\">\n",
       "  <thead>\n",
       "    <tr style=\"text-align: right;\">\n",
       "      <th></th>\n",
       "      <th>gse</th>\n",
       "      <th>gsm</th>\n",
       "      <th>sra</th>\n",
       "      <th>listid</th>\n",
       "    </tr>\n",
       "  </thead>\n",
       "  <tbody>\n",
       "    <tr>\n",
       "      <th>0</th>\n",
       "      <td>GSE100064</td>\n",
       "      <td>GSM2670741</td>\n",
       "      <td>SRR5687234</td>\n",
       "      <td>1583729</td>\n",
       "    </tr>\n",
       "    <tr>\n",
       "      <th>1</th>\n",
       "      <td>GSE100064</td>\n",
       "      <td>GSM2670740</td>\n",
       "      <td>SRR5687233</td>\n",
       "      <td>1583728</td>\n",
       "    </tr>\n",
       "    <tr>\n",
       "      <th>2</th>\n",
       "      <td>GSE100391</td>\n",
       "      <td>GSM2680090</td>\n",
       "      <td>SRR5750314</td>\n",
       "      <td>1583730</td>\n",
       "    </tr>\n",
       "    <tr>\n",
       "      <th>3</th>\n",
       "      <td>GSE100391</td>\n",
       "      <td>GSM2680182</td>\n",
       "      <td>SRR5750406</td>\n",
       "      <td>1647514</td>\n",
       "    </tr>\n",
       "    <tr>\n",
       "      <th>4</th>\n",
       "      <td>GSE100391</td>\n",
       "      <td>GSM2680181</td>\n",
       "      <td>SRR5750405</td>\n",
       "      <td>1647513</td>\n",
       "    </tr>\n",
       "    <tr>\n",
       "      <th>...</th>\n",
       "      <td>...</td>\n",
       "      <td>...</td>\n",
       "      <td>...</td>\n",
       "      <td>...</td>\n",
       "    </tr>\n",
       "    <tr>\n",
       "      <th>290052</th>\n",
       "      <td>GSE98548</td>\n",
       "      <td>GSM2598508</td>\n",
       "      <td>SRR5508144</td>\n",
       "      <td>1556867</td>\n",
       "    </tr>\n",
       "    <tr>\n",
       "      <th>290053</th>\n",
       "      <td>GSE98548</td>\n",
       "      <td>GSM2598507</td>\n",
       "      <td>SRR5508143</td>\n",
       "      <td>1556866</td>\n",
       "    </tr>\n",
       "    <tr>\n",
       "      <th>290054</th>\n",
       "      <td>GSE98548</td>\n",
       "      <td>GSM2598506</td>\n",
       "      <td>SRR5508142</td>\n",
       "      <td>1556865</td>\n",
       "    </tr>\n",
       "    <tr>\n",
       "      <th>290055</th>\n",
       "      <td>GSE98548</td>\n",
       "      <td>GSM2598505</td>\n",
       "      <td>SRR5508141</td>\n",
       "      <td>1556864</td>\n",
       "    </tr>\n",
       "    <tr>\n",
       "      <th>290056</th>\n",
       "      <td>GSE98548</td>\n",
       "      <td>GSM2598504</td>\n",
       "      <td>SRR5508140</td>\n",
       "      <td>1556863</td>\n",
       "    </tr>\n",
       "  </tbody>\n",
       "</table>\n",
       "<p>290057 rows × 4 columns</p>\n",
       "</div>"
      ],
      "text/plain": [
       "              gse         gsm         sra   listid\n",
       "0       GSE100064  GSM2670741  SRR5687234  1583729\n",
       "1       GSE100064  GSM2670740  SRR5687233  1583728\n",
       "2       GSE100391  GSM2680090  SRR5750314  1583730\n",
       "3       GSE100391  GSM2680182  SRR5750406  1647514\n",
       "4       GSE100391  GSM2680181  SRR5750405  1647513\n",
       "...           ...         ...         ...      ...\n",
       "290052   GSE98548  GSM2598508  SRR5508144  1556867\n",
       "290053   GSE98548  GSM2598507  SRR5508143  1556866\n",
       "290054   GSE98548  GSM2598506  SRR5508142  1556865\n",
       "290055   GSE98548  GSM2598505  SRR5508141  1556864\n",
       "290056   GSE98548  GSM2598504  SRR5508140  1556863\n",
       "\n",
       "[290057 rows x 4 columns]"
      ]
     },
     "execution_count": 154,
     "metadata": {},
     "output_type": "execute_result"
    }
   ],
   "source": [
    "maxlistid = a4.db.get_max_id()\n",
    "\n",
    "gsm_meta = new_samples\n",
    "gsm_meta[\"listid\"] = list(range(maxlistid+1, maxlistid+gsm_meta.shape[0]+1))\n",
    "sample_mapping = gsm_meta.loc[:, [\"gse\", \"gsm\", \"sra\", \"listid\"]]\n",
    "sample_mapping = sample_mapping.sort_values(\"gse\").reset_index(drop=True)\n",
    "\n",
    "a4.db.add_mapping(sample_mapping)\n",
    "a4.db.add_sequencing_jobs(new_samples)"
   ]
  },
  {
   "cell_type": "code",
   "execution_count": 9,
   "metadata": {},
   "outputs": [
    {
     "name": "stderr",
     "output_type": "stream",
     "text": [
      "100%|██████████| 10/10 [00:00<00:00, 37888.93it/s]"
     ]
    },
    {
     "name": "stdout",
     "output_type": "stream",
     "text": [
      "0\n",
      "1\n",
      "2\n",
      "3\n",
      "4\n",
      "5\n",
      "6\n",
      "7\n",
      "8\n",
      "9\n"
     ]
    },
    {
     "name": "stderr",
     "output_type": "stream",
     "text": [
      "\n"
     ]
    }
   ],
   "source": [
    "from tqdm import tqdm\n",
    "\n",
    "def test(i):\n",
    "    print(i)\n",
    "\n",
    "for i in tqdm(list(range(10))):\n",
    "    test(i)\n"
   ]
  }
 ],
 "metadata": {
  "interpreter": {
   "hash": "aee8b7b246df8f9039afb4144a1f6fd8d2ca17a180786b69acc140d282b71a49"
  },
  "kernelspec": {
   "display_name": "Python 3.8.5 64-bit",
   "name": "python3"
  },
  "language_info": {
   "codemirror_mode": {
    "name": "ipython",
    "version": 3
   },
   "file_extension": ".py",
   "mimetype": "text/x-python",
   "name": "python",
   "nbconvert_exporter": "python",
   "pygments_lexer": "ipython3",
   "version": "3.8.5"
  },
  "orig_nbformat": 4
 },
 "nbformat": 4,
 "nbformat_minor": 2
}
